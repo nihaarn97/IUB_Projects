{
 "cells": [
  {
   "cell_type": "code",
   "execution_count": 33,
   "id": "c4151702",
   "metadata": {},
   "outputs": [],
   "source": [
    "import os\n",
    "import pandas as pd\n",
    "import numpy as np\n",
    "import matplotlib.pyplot as plt\n",
    "import tensorflow as tf\n",
    "from tensorflow import keras\n",
    "from tensorflow.keras import layers, models\n",
    "from keras_tuner import RandomSearch\n",
    "from sklearn.model_selection import train_test_split\n",
    "\n",
    "os.environ['TF_CPP_MIN_LOG_LEVEL'] = '3' "
   ]
  },
  {
   "cell_type": "code",
   "execution_count": 34,
   "id": "421f4c64",
   "metadata": {},
   "outputs": [],
   "source": [
    "df = pd.read_pickle(r'.\\train100c5k_v2.pkl')\n",
    "\n",
    "# df = df.groupby('target', group_keys=False).apply(lambda x: x.sample(1000))\n",
    "\n",
    "train_data = df['data'].values\n",
    "train_target = df['target'].values"
   ]
  },
  {
   "cell_type": "code",
   "execution_count": 35,
   "id": "f0b9d1f1",
   "metadata": {},
   "outputs": [],
   "source": [
    "df = pd.read_pickle(r'test100c5k_nolabel.pkl')\n",
    "test_data = df['data'].values"
   ]
  },
  {
   "cell_type": "code",
   "execution_count": 36,
   "id": "898a2fbe",
   "metadata": {},
   "outputs": [],
   "source": [
    "train_data = train_data/255"
   ]
  },
  {
   "cell_type": "code",
   "execution_count": 37,
   "id": "49eb1536",
   "metadata": {},
   "outputs": [],
   "source": [
    "train_data = np.array([np.array(val) for val in train_data])\n",
    "train_target = np.array([np.array(val) for val in train_target])"
   ]
  },
  {
   "cell_type": "code",
   "execution_count": 38,
   "id": "c09f9746",
   "metadata": {},
   "outputs": [],
   "source": [
    "x_train, x_test, y_train, y_test = train_test_split(train_data, train_target, test_size = 0.1)"
   ]
  },
  {
   "cell_type": "code",
   "execution_count": 47,
   "id": "63affa8b",
   "metadata": {},
   "outputs": [],
   "source": [
    "cnn = models.Sequential([\n",
    "    layers.Conv2D(filters = 128, kernel_size = 5, padding = 'same', activation = 'relu', input_shape = (28,28,1)),\n",
    "    layers.MaxPooling2D((3,3)),\n",
    "    layers.Conv2D(filters = 48, kernel_size = 2, padding = 'same', activation = 'relu', input_shape = (28,28,1)),\n",
    "    layers.MaxPooling2D((2,2)),\n",
    "    \n",
    "    layers.Dropout(0.15),\n",
    "    layers.Flatten(),\n",
    "    layers.Dense(400, activation = 'relu'),\n",
    "    layers.Dense(100, activation = 'softmax')\n",
    "])"
   ]
  },
  {
   "cell_type": "code",
   "execution_count": 48,
   "id": "c6f2e3c1",
   "metadata": {},
   "outputs": [],
   "source": [
    "optimizer = keras.optimizers.Adam(learning_rate = 0.001)\n",
    "\n",
    "cnn.compile(optimizer = optimizer,\n",
    "             loss = 'sparse_categorical_crossentropy',\n",
    "             metrics = ['accuracy'])"
   ]
  },
  {
   "cell_type": "code",
   "execution_count": 49,
   "id": "902d7d6d",
   "metadata": {},
   "outputs": [
    {
     "name": "stdout",
     "output_type": "stream",
     "text": [
      "Epoch 1/10\n",
      "14063/14063 [==============================] - 281s 20ms/step - loss: 1.7368 - accuracy: 0.5625\n",
      "Epoch 2/10\n",
      "14063/14063 [==============================] - 272s 19ms/step - loss: 1.3613 - accuracy: 0.6473\n",
      "Epoch 3/10\n",
      "14063/14063 [==============================] - 267s 19ms/step - loss: 1.2702 - accuracy: 0.6683\n",
      "Epoch 4/10\n",
      "14063/14063 [==============================] - 282s 20ms/step - loss: 1.2236 - accuracy: 0.6789\n",
      "Epoch 5/10\n",
      "14063/14063 [==============================] - 281s 20ms/step - loss: 1.1907 - accuracy: 0.6859\n",
      "Epoch 6/10\n",
      "14063/14063 [==============================] - 306s 22ms/step - loss: 1.1671 - accuracy: 0.6918\n",
      "Epoch 7/10\n",
      "14063/14063 [==============================] - 286s 20ms/step - loss: 1.1510 - accuracy: 0.6950\n",
      "Epoch 8/10\n",
      "14063/14063 [==============================] - 260s 18ms/step - loss: 1.1372 - accuracy: 0.6982\n",
      "Epoch 9/10\n",
      "14063/14063 [==============================] - 277s 20ms/step - loss: 1.1251 - accuracy: 0.7001\n",
      "Epoch 10/10\n",
      "14063/14063 [==============================] - 285s 20ms/step - loss: 1.1165 - accuracy: 0.7025\n"
     ]
    },
    {
     "data": {
      "text/plain": [
       "<keras.callbacks.History at 0x243d22a7a60>"
      ]
     },
     "execution_count": 49,
     "metadata": {},
     "output_type": "execute_result"
    }
   ],
   "source": [
    "cnn.fit(x_train, y_train, epochs = 10)"
   ]
  },
  {
   "cell_type": "code",
   "execution_count": 51,
   "id": "c76722bf",
   "metadata": {
    "scrolled": false
   },
   "outputs": [
    {
     "name": "stdout",
     "output_type": "stream",
     "text": [
      "1563/1563 [==============================] - 9s 6ms/step - loss: 1.1694 - accuracy: 0.6931\n"
     ]
    },
    {
     "data": {
      "text/plain": [
       "[1.1694263219833374, 0.6930999755859375]"
      ]
     },
     "execution_count": 51,
     "metadata": {},
     "output_type": "execute_result"
    }
   ],
   "source": [
    "cnn.evaluate(x_test, y_test)"
   ]
  },
  {
   "cell_type": "code",
   "execution_count": 15,
   "id": "03c27c7d",
   "metadata": {},
   "outputs": [],
   "source": [
    "cnn.save(\"model_nnandedk.h5\")"
   ]
  },
  {
   "cell_type": "code",
   "execution_count": 16,
   "id": "2be6142a",
   "metadata": {},
   "outputs": [],
   "source": [
    "test_data = test_data/255\n",
    "test_data = np.array([np.array(val) for val in test_data])"
   ]
  },
  {
   "cell_type": "code",
   "execution_count": 17,
   "id": "e3328988",
   "metadata": {},
   "outputs": [
    {
     "name": "stdout",
     "output_type": "stream",
     "text": [
      "3125/3125 [==============================] - 15s 5ms/step\n"
     ]
    }
   ],
   "source": [
    "y_pred = cnn.predict(test_data)\n",
    "y_classes = [np.argmax(val) for val in y_pred]"
   ]
  },
  {
   "cell_type": "code",
   "execution_count": 18,
   "id": "2edddc01",
   "metadata": {},
   "outputs": [],
   "source": [
    "with open('project_nnandedk.txt', 'w') as file:\n",
    "        file.write('\\n'.join(map(str, y_classes)))\n",
    "        file.flush()"
   ]
  },
  {
   "cell_type": "code",
   "execution_count": null,
   "id": "b61e0c83",
   "metadata": {},
   "outputs": [],
   "source": []
  }
 ],
 "metadata": {
  "kernelspec": {
   "display_name": "Python 3",
   "language": "python",
   "name": "python3"
  },
  "language_info": {
   "codemirror_mode": {
    "name": "ipython",
    "version": 3
   },
   "file_extension": ".py",
   "mimetype": "text/x-python",
   "name": "python",
   "nbconvert_exporter": "python",
   "pygments_lexer": "ipython3",
   "version": "3.9.5"
  }
 },
 "nbformat": 4,
 "nbformat_minor": 5
}
